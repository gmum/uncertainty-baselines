{
 "cells": [
  {
   "cell_type": "code",
   "execution_count": 2,
   "metadata": {},
   "outputs": [],
   "source": [
    "import os.path\n",
    "\n",
    "from absl import app\n",
    "from absl import flags\n",
    "from absl import logging\n",
    "\n",
    "import numpy as np\n",
    "import tensorflow as tf\n",
    "import uncertainty_baselines as ub\n",
    "import uncertainty_metrics as um\n",
    "\n",
    "from resnet20 import create_model as resnet20_multihead\n",
    "#from resnet20 import train_model as resnet20_multihead_train\n",
    "from resnet20 import load_model as resnet20_multihead_load\n",
    "from resnet20 import configure_model as resnet20_multihead_configure\n",
    "from resnet20 import calibrate_model_nonlin\n",
    "\n",
    "from func import load_datasets_basic, load_datasets_corrupted, add_dataset_flags\n",
    "from func import AttrDict\n",
    "\n",
    "from metrics import rel_diag,ece,brier, ECE, BrierScore, NLL\n",
    "from metrics import comp_metrics, quartiles\n",
    "\n",
    "from func import one_vs_all_loss_fn\n",
    "from func import AttrDict, load_flags, save_flags"
   ]
  },
  {
   "cell_type": "code",
   "execution_count": 52,
   "metadata": {},
   "outputs": [],
   "source": [
    "FLAGS = load_flags('FLAGS.json')"
   ]
  },
  {
   "cell_type": "code",
   "execution_count": 53,
   "metadata": {},
   "outputs": [
    {
     "data": {
      "text/plain": [
       "{'seed': 1337,\n",
       " 'output_dir': 'outdir',\n",
       " 'optimizer': 'sgd',\n",
       " 'learning_rate': 0.1,\n",
       " 'weight_decay': 0.0001,\n",
       " 'model_file': 'outdir/model.ckpt-250',\n",
       " 'dataset': 'cifar10',\n",
       " 'certainty_variant': 'partial',\n",
       " 'activation': 'relu',\n",
       " 'batch_size': 128,\n",
       " 'eval_batch_size': 100,\n",
       " 'validation_percent': 0.1,\n",
       " 'eval_frequency': 100,\n",
       " 'num_bins': 15,\n",
       " 'epochs': 250,\n",
       " 'augment_train': True,\n",
       " 'model_variant': '1vsall',\n",
       " 'calibration_variant': 'nonlin',\n",
       " 'which_output': 'certs',\n",
       " 'which_dataset': 'val',\n",
       " 'cal_dict': {'epochs': 10000,\n",
       "  'bins': 1000,\n",
       "  'basis_type': 'uniform',\n",
       "  'basis_params': [-20, 20, 100]}}"
      ]
     },
     "execution_count": 53,
     "metadata": {},
     "output_type": "execute_result"
    }
   ],
   "source": [
    "FLAGS"
   ]
  },
  {
   "cell_type": "code",
   "execution_count": 166,
   "metadata": {},
   "outputs": [],
   "source": [
    "FLAGS.output_dir = 'vanilla_relu'\n",
    "FLAGS.model_file = 'vanilla_relu/model.ckpt-250'\n",
    "FLAGS.activation = 'relu'\n",
    "FLAGS.model_variant = 'vanilla'\n",
    "FLAGS.which_output = 'probs'\n"
   ]
  },
  {
   "cell_type": "code",
   "execution_count": 21,
   "metadata": {},
   "outputs": [],
   "source": [
    "FLAGS.output_dir = '1vsall_relu'\n",
    "FLAGS.model_file = '1vsall_relu/model.ckpt-250'\n",
    "FLAGS.activation = 'relu'"
   ]
  },
  {
   "cell_type": "code",
   "execution_count": 21,
   "metadata": {},
   "outputs": [],
   "source": [
    "FLAGS.output_dir = '1vsall_sin'\n",
    "FLAGS.model_file = '1vsall_sin/model.ckpt-250'\n",
    "FLAGS.activation = 'sin'"
   ]
  },
  {
   "cell_type": "markdown",
   "metadata": {},
   "source": [
    "<h2>training</h2>"
   ]
  },
  {
   "cell_type": "code",
   "execution_count": 48,
   "metadata": {},
   "outputs": [
    {
     "name": "stdout",
     "output_type": "stream",
     "text": [
      "INFO:tensorflow:Using MirroredStrategy with devices ('/job:localhost/replica:0/task:0/device:GPU:0',)\n"
     ]
    },
    {
     "name": "stderr",
     "output_type": "stream",
     "text": [
      "INFO:tensorflow:Using MirroredStrategy with devices ('/job:localhost/replica:0/task:0/device:GPU:0',)\n"
     ]
    }
   ],
   "source": [
    "logging.info('Multihead CIFAR-10 ResNet-20 train')\n",
    "\n",
    "tf.random.set_seed(FLAGS.seed)\n",
    "np.random.seed(FLAGS.seed)\n",
    "\n",
    "dataset_builder,train_dataset,val_dataset,test_dataset = load_datasets_basic(FLAGS)\n",
    "FLAGS = add_dataset_flags(dataset_builder,FLAGS)\n",
    "\n",
    "tensorboard_callback, optimizer, loss_funcs, metrics = resnet20_multihead_configure(FLAGS)\n",
    "\n",
    "model = resnet20_multihead(batch_size=FLAGS.batch_size,\n",
    "                            l2_weight=FLAGS.weight_decay,\n",
    "                            certainty_variant=FLAGS.certainty_variant,\n",
    "                            activation_type=FLAGS.activation\n",
    "                            )\n",
    "\n",
    "model.compile(optimizer=optimizer,\n",
    "              loss=loss_funcs,\n",
    "              metrics=metrics)"
   ]
  },
  {
   "cell_type": "code",
   "execution_count": null,
   "metadata": {},
   "outputs": [],
   "source": [
    "history = model.fit(train_dataset,\n",
    "                    #batch_size=FLAGS.batch_size,\n",
    "                    epochs=FLAGS.epochs,\n",
    "                    steps_per_epoch=FLAGS.steps_per_epoch,\n",
    "                    validation_data=val_dataset,\n",
    "                    validation_steps=FLAGS.validation_steps,\n",
    "                    validation_freq=FLAGS.eval_frequency,\n",
    "                    callbacks=[tensorboard_callback],\n",
    "                    shuffle=False)"
   ]
  },
  {
   "cell_type": "code",
   "execution_count": null,
   "metadata": {},
   "outputs": [],
   "source": [
    "model_dir = os.path.join(FLAGS.output_dir, 'model.ckpt-{}'.format(FLAGS.epochs))\n",
    "logging.info('Saving model to '+model_dir)\n",
    "model.save_weights(model_dir)"
   ]
  },
  {
   "cell_type": "markdown",
   "metadata": {},
   "source": [
    "# corrupt"
   ]
  },
  {
   "cell_type": "code",
   "execution_count": 24,
   "metadata": {},
   "outputs": [],
   "source": [
    "FLAGS = load_flags('FLAGS.json')"
   ]
  },
  {
   "cell_type": "code",
   "execution_count": 6,
   "metadata": {},
   "outputs": [],
   "source": [
    "FLAGS.output_dir = 'vanilla_relu'\n",
    "FLAGS.model_file = 'vanilla_relu/model.ckpt-250'\n",
    "FLAGS.activation = 'relu'\n",
    "FLAGS.model_variant = 'vanilla'\n",
    "FLAGS.which_output = 'probs'\n",
    "FLAGS.cal_dict = {'epochs': 10000, 'bins': 1000, 'basis_type': 'uniform', 'basis_params': [-20, 20, 100]}"
   ]
  },
  {
   "cell_type": "code",
   "execution_count": 25,
   "metadata": {},
   "outputs": [],
   "source": [
    "FLAGS.output_dir = 'vanilla_sin'\n",
    "FLAGS.model_file = 'vanilla_sin/model.ckpt-250'\n",
    "FLAGS.activation = 'sin'\n",
    "FLAGS.model_variant = 'vanilla'\n",
    "FLAGS.which_output = 'probs'\n",
    "FLAGS.cal_dict = {'epochs': 10000, 'bins': 1000, 'basis_type': 'uniform', 'basis_params': [-20, 20, 100]}"
   ]
  },
  {
   "cell_type": "code",
   "execution_count": 224,
   "metadata": {},
   "outputs": [],
   "source": [
    "FLAGS.output_dir = '1vsall_sin'\n",
    "FLAGS.model_file = '1vsall_sin/model.ckpt-250'\n",
    "FLAGS.activation = 'sin'\n",
    "FLAGS.model_variant = '1vsall'\n",
    "FLAGS.which_output = 'probs'\n",
    "FLAGS.certainty_variant = 'total'\n",
    "FLAGS.cal_dict = {'epochs': 10000, 'bins': 4000, 'basis_type': 'uniform', 'basis_params': [-20, 20, 100]}"
   ]
  },
  {
   "cell_type": "code",
   "execution_count": 219,
   "metadata": {},
   "outputs": [],
   "source": [
    "FLAGS.output_dir = '1vsall_relu'\n",
    "FLAGS.model_file = '1vsall_relu/model.ckpt-250'\n",
    "FLAGS.activation = 'relu'\n",
    "FLAGS.model_variant = '1vsall'\n",
    "FLAGS.which_output = 'probs'\n",
    "FLAGS.certainty_variant = 'total'\n",
    "FLAGS.cal_dict = {'epochs': 10000, 'bins': 4000, 'basis_type': 'uniform', 'basis_params': [-20, 20, 100]}\n",
    "\n",
    "\n",
    "\n",
    "\n",
    "\n"
   ]
  },
  {
   "cell_type": "code",
   "execution_count": 26,
   "metadata": {},
   "outputs": [
    {
     "data": {
      "text/plain": [
       "{'seed': 1337,\n",
       " 'output_dir': 'vanilla_sin',\n",
       " 'optimizer': 'sgd',\n",
       " 'learning_rate': 0.1,\n",
       " 'weight_decay': 0.0001,\n",
       " 'model_file': 'vanilla_sin/model.ckpt-250',\n",
       " 'dataset': 'cifar10',\n",
       " 'certainty_variant': 'partial',\n",
       " 'activation': 'sin',\n",
       " 'batch_size': 128,\n",
       " 'eval_batch_size': 100,\n",
       " 'validation_percent': 0.1,\n",
       " 'eval_frequency': 100,\n",
       " 'num_bins': 15,\n",
       " 'epochs': 250,\n",
       " 'augment_train': True,\n",
       " 'model_variant': 'vanilla',\n",
       " 'calibration_variant': 'nonlin',\n",
       " 'which_output': 'probs',\n",
       " 'which_dataset': 'val',\n",
       " 'cal_dict': {'epochs': 10000,\n",
       "  'bins': 1000,\n",
       "  'basis_type': 'uniform',\n",
       "  'basis_params': [-20, 20, 100]}}"
      ]
     },
     "execution_count": 26,
     "metadata": {},
     "output_type": "execute_result"
    }
   ],
   "source": [
    "FLAGS"
   ]
  },
  {
   "cell_type": "code",
   "execution_count": 27,
   "metadata": {},
   "outputs": [
    {
     "name": "stdout",
     "output_type": "stream",
     "text": [
      "INFO:tensorflow:Using MirroredStrategy with devices ('/job:localhost/replica:0/task:0/device:GPU:0',)\n"
     ]
    },
    {
     "name": "stderr",
     "output_type": "stream",
     "text": [
      "INFO:tensorflow:Using MirroredStrategy with devices ('/job:localhost/replica:0/task:0/device:GPU:0',)\n"
     ]
    }
   ],
   "source": [
    "logging.info('Multihead CIFAR-10 ResNet-20 train')\n",
    "\n",
    "tf.random.set_seed(FLAGS.seed)\n",
    "np.random.seed(FLAGS.seed)\n",
    "\n",
    "dataset_builder,train_dataset,val_dataset,test_dataset = load_datasets_basic(FLAGS)\n",
    "FLAGS = add_dataset_flags(dataset_builder,FLAGS)\n",
    "\n",
    "tensorboard_callback, optimizer, loss_funcs, metrics = resnet20_multihead_configure(FLAGS)\n",
    "\n",
    "model = resnet20_multihead(batch_size=FLAGS.batch_size,\n",
    "                            l2_weight=FLAGS.weight_decay,\n",
    "                            certainty_variant=FLAGS.certainty_variant,\n",
    "                            activation_type=FLAGS.activation,\n",
    "                            model_variant=FLAGS.model_variant\n",
    "                          )\n",
    "\n",
    "model.compile(optimizer=optimizer,\n",
    "              loss=loss_funcs,\n",
    "              metrics=metrics)"
   ]
  },
  {
   "cell_type": "code",
   "execution_count": 28,
   "metadata": {},
   "outputs": [],
   "source": [
    "resnet20_multihead_load(model,FLAGS)"
   ]
  },
  {
   "cell_type": "code",
   "execution_count": 29,
   "metadata": {},
   "outputs": [
    {
     "name": "stdout",
     "output_type": "stream",
     "text": [
      "352/352 [==============================] - 29s 83ms/step - loss: 0.1470 - logits_loss: 0.0287 - certs_ece: 0.0067 - probs_sparse_categorical_accuracy: 0.9915 - probs_lr: 1.0000e-03\n"
     ]
    },
    {
     "data": {
      "text/plain": [
       "[0.1470339149236679,\n",
       " 0.028713958337903023,\n",
       " 0.0066540297120809555,\n",
       " 0.9914994835853577,\n",
       " 0.0009999972535297275]"
      ]
     },
     "execution_count": 29,
     "metadata": {},
     "output_type": "execute_result"
    }
   ],
   "source": [
    "model.evaluate(train_dataset)"
   ]
  },
  {
   "cell_type": "code",
   "execution_count": 30,
   "metadata": {},
   "outputs": [
    {
     "name": "stdout",
     "output_type": "stream",
     "text": [
      "50/50 [==============================] - 1s 11ms/step - loss: 0.5320 - logits_loss: 0.4137 - certs_ece: 0.0601 - probs_sparse_categorical_accuracy: 0.9030 - probs_lr: 1.0000e-03\n"
     ]
    },
    {
     "data": {
      "text/plain": [
       "[0.5320317149162292,\n",
       " 0.41371187567710876,\n",
       " 0.060081999748945236,\n",
       " 0.902999997138977,\n",
       " 0.0009999994654208422]"
      ]
     },
     "execution_count": 30,
     "metadata": {},
     "output_type": "execute_result"
    }
   ],
   "source": [
    "model.evaluate(val_dataset)"
   ]
  },
  {
   "cell_type": "code",
   "execution_count": 31,
   "metadata": {},
   "outputs": [
    {
     "name": "stdout",
     "output_type": "stream",
     "text": [
      "100/100 [==============================] - 1s 9ms/step - loss: 0.5326 - logits_loss: 0.4143 - certs_ece: 0.0617 - probs_sparse_categorical_accuracy: 0.8988 - probs_lr: 0.0010\n"
     ]
    },
    {
     "data": {
      "text/plain": [
       "[0.5326200127601624,\n",
       " 0.41429999470710754,\n",
       " 0.061678189784288406,\n",
       " 0.8988000154495239,\n",
       " 0.001000000280328095]"
      ]
     },
     "execution_count": 31,
     "metadata": {},
     "output_type": "execute_result"
    }
   ],
   "source": [
    "model.evaluate(test_dataset)"
   ]
  },
  {
   "cell_type": "code",
   "execution_count": 32,
   "metadata": {},
   "outputs": [],
   "source": [
    "cal_model, W1 = calibrate_model_nonlin(model=model,\n",
    "                                      dataset=val_dataset,\n",
    "                                      FLAGS=FLAGS,\n",
    "                                      output=FLAGS.which_output,\n",
    "                                      **FLAGS.cal_dict\n",
    "                                     )"
   ]
  },
  {
   "cell_type": "code",
   "execution_count": 33,
   "metadata": {},
   "outputs": [
    {
     "data": {
      "image/png": "[encoded data removed]",
      "text/plain": [
       "<Figure size 360x360 with 1 Axes>"
      ]
     },
     "metadata": {
      "needs_background": "light"
     },
     "output_type": "display_data"
    }
   ],
   "source": [
    "rel_diag(model,\n",
    "                 val_dataset,\n",
    "                 FLAGS,\n",
    "                 output=FLAGS.which_output,\n",
    "                 savefig=False)"
   ]
  },
  {
   "cell_type": "code",
   "execution_count": 34,
   "metadata": {},
   "outputs": [
    {
     "data": {
      "image/png": "[encoded data removed]",
      "text/plain": [
       "<Figure size 360x360 with 1 Axes>"
      ]
     },
     "metadata": {
      "needs_background": "light"
     },
     "output_type": "display_data"
    }
   ],
   "source": [
    "rel_diag(cal_model,\n",
    "                 val_dataset,\n",
    "                 FLAGS,\n",
    "                 output=FLAGS.which_output+'_cal',\n",
    "                 savefig=False)"
   ]
  },
  {
   "cell_type": "code",
   "execution_count": 35,
   "metadata": {},
   "outputs": [],
   "source": [
    "_, test_datasets_corrupt = load_datasets_corrupted(FLAGS)"
   ]
  },
  {
   "cell_type": "code",
   "execution_count": 36,
   "metadata": {},
   "outputs": [
    {
     "data": {
      "application/vnd.jupyter.widget-view+json": {
       "model_id": "ba18f932966c49b5bee009217003a4e5",
       "version_major": 2,
       "version_minor": 0
      },
      "text/plain": [
       "HBox(children=(HTML(value=''), FloatProgress(value=0.0, max=1.0), HTML(value='')))"
      ]
     },
     "metadata": {},
     "output_type": "display_data"
    },
    {
     "name": "stdout",
     "output_type": "stream",
     "text": [
      "\n"
     ]
    },
    {
     "data": {
      "text/plain": [
       "{'clean': [0.061485905200242996, 0.1624324768781662, 0.412942498922348],\n",
       " 'summary_metrics': ['ece', 'brier', 'nll']}"
      ]
     },
     "execution_count": 36,
     "metadata": {},
     "output_type": "execute_result"
    }
   ],
   "source": [
    "metrics = {'ece':ECE(num_bins=FLAGS.num_bins, name='ece'),\n",
    "                   'brier':BrierScore(),\n",
    "                   'nll':NLL()}\n",
    "        \n",
    "results, quartiles = comp_metrics(model=model,\n",
    "                                   datasets={'clean':test_datasets_corrupt['clean']},\n",
    "                                   metrics=metrics,\n",
    "                                   FLAGS=FLAGS,\n",
    "                                   output='certs',\n",
    "                                   return_quartiles=True)\n",
    "\n",
    "#save batch ECE results\n",
    "results['summary_metrics'] = list(metrics.keys())\n",
    "\n",
    "results"
   ]
  },
  {
   "cell_type": "code",
   "execution_count": 37,
   "metadata": {},
   "outputs": [
    {
     "data": {
      "application/vnd.jupyter.widget-view+json": {
       "model_id": "9579000538df4466879aa700339ec8b3",
       "version_major": 2,
       "version_minor": 0
      },
      "text/plain": [
       "HBox(children=(HTML(value=''), FloatProgress(value=0.0, max=1.0), HTML(value='')))"
      ]
     },
     "metadata": {},
     "output_type": "display_data"
    },
    {
     "name": "stdout",
     "output_type": "stream",
     "text": [
      "\n"
     ]
    },
    {
     "data": {
      "text/plain": [
       "{'clean': [0.005275691859424114, 0.14850309491157532, 0.30498620867729187],\n",
       " 'summary_metrics': ['ece', 'brier', 'nll']}"
      ]
     },
     "execution_count": 37,
     "metadata": {},
     "output_type": "execute_result"
    }
   ],
   "source": [
    "metrics = {'ece':ECE(num_bins=FLAGS.num_bins, name='ece'),\n",
    "                   'brier':BrierScore(),\n",
    "                   'nll':NLL()}\n",
    "        \n",
    "results, quartiles = comp_metrics(model=cal_model,\n",
    "                                   datasets={'clean':test_datasets_corrupt['clean']},\n",
    "                                   metrics=metrics,\n",
    "                                   FLAGS=FLAGS,\n",
    "                                   output=FLAGS.which_output+'_cal',\n",
    "                                   return_quartiles=True)\n",
    "\n",
    "results['summary_metrics'] = list(metrics.keys())\n",
    "results"
   ]
  },
  {
   "cell_type": "code",
   "execution_count": 38,
   "metadata": {},
   "outputs": [
    {
     "data": {
      "application/vnd.jupyter.widget-view+json": {
       "model_id": "931c26378dfd49968b70a45f4ce1ba52",
       "version_major": 2,
       "version_minor": 0
      },
      "text/plain": [
       "HBox(children=(HTML(value=''), FloatProgress(value=0.0, max=76.0), HTML(value='')))"
      ]
     },
     "metadata": {},
     "output_type": "display_data"
    },
    {
     "name": "stdout",
     "output_type": "stream",
     "text": [
      "\n"
     ]
    }
   ],
   "source": [
    "metrics = {'ece':ECE(num_bins=FLAGS.num_bins, name='ece'),\n",
    "                   'brier':BrierScore(),\n",
    "                   'nll':NLL()}\n",
    "        \n",
    "results, quartiles = comp_metrics(model=model,\n",
    "                                   datasets=test_datasets_corrupt,\n",
    "                                   metrics=metrics,\n",
    "                                   FLAGS=FLAGS,\n",
    "                                   output=FLAGS.which_output,\n",
    "                                   return_quartiles=True)\n",
    "\n",
    "#save batch ECE results\n",
    "results['summary_quart_25th'] = quartiles[0]\n",
    "results['summary_quart_50th'] = quartiles[1]\n",
    "results['summary_quart_75th'] = quartiles[2]\n",
    "results['summary_metrics'] = list(metrics.keys())"
   ]
  },
  {
   "cell_type": "code",
   "execution_count": 39,
   "metadata": {},
   "outputs": [
    {
     "data": {
      "text/plain": [
       "([0.08234741538763046, 0.21642039343714714, 0.5669727325439453],\n",
       " [0.13815616816282272, 0.34517449140548706, 0.9809294044971466],\n",
       " [0.2119305655360222, 0.5152214616537094, 1.5048152804374695])"
      ]
     },
     "execution_count": 39,
     "metadata": {},
     "output_type": "execute_result"
    }
   ],
   "source": [
    "quartiles"
   ]
  },
  {
   "cell_type": "code",
   "execution_count": 40,
   "metadata": {},
   "outputs": [
    {
     "data": {
      "application/vnd.jupyter.widget-view+json": {
       "model_id": "1d0d2ff0eb3347aa8b92963727131e74",
       "version_major": 2,
       "version_minor": 0
      },
      "text/plain": [
       "HBox(children=(HTML(value=''), FloatProgress(value=0.0, max=76.0), HTML(value='')))"
      ]
     },
     "metadata": {},
     "output_type": "display_data"
    },
    {
     "name": "stdout",
     "output_type": "stream",
     "text": [
      "\n"
     ]
    }
   ],
   "source": [
    "\n",
    "metrics = {'ece':ECE(num_bins=FLAGS.num_bins, name='ece'),\n",
    "                   'brier':BrierScore(),\n",
    "                   'nll':NLL()}\n",
    "        \n",
    "results, quartiles = comp_metrics(model=cal_model,\n",
    "                                   datasets=test_datasets_corrupt,\n",
    "                                   metrics=metrics,\n",
    "                                   FLAGS=FLAGS,\n",
    "                                   output=FLAGS.which_output+'_cal',\n",
    "                                   return_quartiles=True)\n",
    "\n",
    "#save batch ECE results\n",
    "results['summary_quart_25th'] = quartiles[0]\n",
    "results['summary_quart_50th'] = quartiles[1]\n",
    "results['summary_quart_75th'] = quartiles[2]\n",
    "results['summary_metrics'] = list(metrics.keys())"
   ]
  },
  {
   "cell_type": "code",
   "execution_count": 41,
   "metadata": {
    "scrolled": false
   },
   "outputs": [
    {
     "data": {
      "text/plain": [
       "([0.015108963707461953, 0.19662870466709137, 0.4071059823036194],\n",
       " [0.05038418248295784, 0.3085743337869644, 0.6510652005672455],\n",
       " [0.10291256755590439, 0.4524870812892914, 0.9667367488145828])"
      ]
     },
     "execution_count": 41,
     "metadata": {},
     "output_type": "execute_result"
    }
   ],
   "source": [
    "quartiles"
   ]
  },
  {
   "cell_type": "markdown",
   "metadata": {},
   "source": [
    "<h1>accs</h1>"
   ]
  },
  {
   "cell_type": "code",
   "execution_count": 169,
   "metadata": {},
   "outputs": [],
   "source": [
    "FLAGS = load_flags('FLAGS.json')"
   ]
  },
  {
   "cell_type": "code",
   "execution_count": 170,
   "metadata": {},
   "outputs": [
    {
     "data": {
      "text/plain": [
       "{'seed': 1337,\n",
       " 'output_dir': 'outdir',\n",
       " 'optimizer': 'sgd',\n",
       " 'learning_rate': 0.1,\n",
       " 'weight_decay': 0.0001,\n",
       " 'model_file': 'outdir/model.ckpt-250',\n",
       " 'dataset': 'cifar10',\n",
       " 'certainty_variant': 'partial',\n",
       " 'activation': 'relu',\n",
       " 'batch_size': 128,\n",
       " 'eval_batch_size': 100,\n",
       " 'validation_percent': 0.1,\n",
       " 'eval_frequency': 100,\n",
       " 'num_bins': 15,\n",
       " 'epochs': 250,\n",
       " 'augment_train': True,\n",
       " 'model_variant': '1vsall',\n",
       " 'calibration_variant': 'nonlin',\n",
       " 'which_output': 'certs',\n",
       " 'which_dataset': 'val',\n",
       " 'cal_dict': {'epochs': 10000,\n",
       "  'bins': 1000,\n",
       "  'basis_type': 'uniform',\n",
       "  'basis_params': [-20, 20, 100]}}"
      ]
     },
     "execution_count": 170,
     "metadata": {},
     "output_type": "execute_result"
    }
   ],
   "source": [
    "FLAGS"
   ]
  },
  {
   "cell_type": "code",
   "execution_count": 171,
   "metadata": {},
   "outputs": [],
   "source": [
    "FLAGS.output_dir = '1vsall_relu'\n",
    "FLAGS.model_file = '1vsall_relu/model.ckpt-250'\n",
    "FLAGS.activation = 'relu'"
   ]
  },
  {
   "cell_type": "code",
   "execution_count": 76,
   "metadata": {},
   "outputs": [],
   "source": [
    "FLAGS.output_dir = '1vsall_sin'\n",
    "FLAGS.model_file = '1vsall_sin/model.ckpt-250'\n",
    "FLAGS.activation = 'sin'"
   ]
  },
  {
   "cell_type": "code",
   "execution_count": 173,
   "metadata": {},
   "outputs": [],
   "source": [
    "loss_funcs = {'logits':one_vs_all_loss_fn(from_logits=True),\n",
    "                  'probs':None,\n",
    "                  'certs':None,\n",
    "                  'logits_from_certs':None}\n",
    "metrics = {'logits':[tf.keras.metrics.SparseCategoricalAccuracy()],\n",
    "           'probs':[um.ExpectedCalibrationError(num_bins=FLAGS.num_bins, name='ece'),\n",
    "                   tf.keras.metrics.SparseCategoricalAccuracy()],\n",
    "           'certs':[um.ExpectedCalibrationError(num_bins=FLAGS.num_bins,name='ece'),\n",
    "                    tf.keras.metrics.SparseCategoricalAccuracy()],\n",
    "           'logits_from_certs':[tf.keras.metrics.SparseCategoricalAccuracy()]}"
   ]
  },
  {
   "cell_type": "code",
   "execution_count": 174,
   "metadata": {},
   "outputs": [
    {
     "name": "stdout",
     "output_type": "stream",
     "text": [
      "INFO:tensorflow:Using MirroredStrategy with devices ('/job:localhost/replica:0/task:0/device:GPU:0',)\n"
     ]
    },
    {
     "name": "stderr",
     "output_type": "stream",
     "text": [
      "INFO:tensorflow:Using MirroredStrategy with devices ('/job:localhost/replica:0/task:0/device:GPU:0',)\n"
     ]
    }
   ],
   "source": [
    "logging.info('Multihead CIFAR-10 ResNet-20 train')\n",
    "\n",
    "tf.random.set_seed(FLAGS.seed)\n",
    "np.random.seed(FLAGS.seed)\n",
    "\n",
    "dataset_builder,train_dataset,val_dataset,test_dataset = load_datasets_basic(FLAGS)\n",
    "FLAGS = add_dataset_flags(dataset_builder,FLAGS)\n",
    "\n",
    "tensorboard_callback, optimizer, loss_funcs, metrics = resnet20_multihead_configure(FLAGS)\n",
    "\n",
    "model = resnet20_multihead(batch_size=FLAGS.batch_size,\n",
    "                            l2_weight=FLAGS.weight_decay,\n",
    "                            certainty_variant=FLAGS.certainty_variant,\n",
    "                            activation_type=FLAGS.activation\n",
    "                            )\n",
    "\n",
    "model.compile(optimizer=optimizer,\n",
    "              loss=loss_funcs,\n",
    "              metrics=metrics)"
   ]
  },
  {
   "cell_type": "code",
   "execution_count": 175,
   "metadata": {},
   "outputs": [],
   "source": [
    "resnet20_multihead_load(model,FLAGS)"
   ]
  },
  {
   "cell_type": "code",
   "execution_count": 176,
   "metadata": {},
   "outputs": [
    {
     "name": "stdout",
     "output_type": "stream",
     "text": [
      "100/100 [==============================] - 1s 9ms/step - loss: 0.9767 - logits_loss: 0.7838 - certs_ece: 0.0462 - certs_sparse_categorical_accuracy: 0.9063 - logits_sparse_categorical_accuracy: 0.9063 - logits_from_certs_sparse_categorical_accuracy: 0.9063 - probs_ece: 0.0569 - probs_sparse_categorical_accuracy: 0.9063\n"
     ]
    },
    {
     "data": {
      "text/plain": [
       "[0.9767186641693115,\n",
       " 0.7837676405906677,\n",
       " 0.04619608819484711,\n",
       " 0.9063000082969666,\n",
       " 0.9063000082969666,\n",
       " 0.9063000082969666,\n",
       " 0.05687550827860832,\n",
       " 0.9063000082969666]"
      ]
     },
     "execution_count": 176,
     "metadata": {},
     "output_type": "execute_result"
    }
   ],
   "source": [
    "model.evaluate(test_dataset)"
   ]
  },
  {
   "cell_type": "code",
   "execution_count": 177,
   "metadata": {},
   "outputs": [],
   "source": [
    "cal_model, _ = calibrate_model_nonlin(model=model,\n",
    "                                      dataset=test_dataset,\n",
    "                                      FLAGS=FLAGS,\n",
    "                                      output=FLAGS.which_output,\n",
    "                                      **FLAGS.cal_dict\n",
    "                                     )"
   ]
  },
  {
   "cell_type": "code",
   "execution_count": 178,
   "metadata": {},
   "outputs": [
    {
     "data": {
      "text/plain": [
       "0.9063"
      ]
     },
     "execution_count": 178,
     "metadata": {},
     "output_type": "execute_result"
    }
   ],
   "source": [
    "i=0\n",
    "m = tf.keras.metrics.Accuracy()\n",
    "m.reset_states()\n",
    "for x,y in test_dataset:\n",
    "    \n",
    "    if i>FLAGS.test_steps:\n",
    "        break\n",
    "    m.update_state(tf.cast(tf.argmax(cal_model(x)['certs_cal'],axis=1),dtype=tf.int32),y)\n",
    "    i+=1\n",
    "m.result().numpy()"
   ]
  },
  {
   "cell_type": "markdown",
   "metadata": {},
   "source": [
    "<h2>calibration + reliability diagrams</h2>"
   ]
  },
  {
   "cell_type": "code",
   "execution_count": 3,
   "metadata": {},
   "outputs": [
    {
     "name": "stdout",
     "output_type": "stream",
     "text": [
      "INFO:tensorflow:Using MirroredStrategy with devices ('/job:localhost/replica:0/task:0/device:GPU:0',)\n"
     ]
    },
    {
     "name": "stderr",
     "output_type": "stream",
     "text": [
      "INFO:tensorflow:Using MirroredStrategy with devices ('/job:localhost/replica:0/task:0/device:GPU:0',)\n"
     ]
    }
   ],
   "source": [
    "logging.info('Multihead CIFAR-10 ResNet-20 calibrate')\n",
    "\n",
    "tf.random.set_seed(FLAGS.seed)\n",
    "np.random.seed(FLAGS.seed)\n",
    "\n",
    "dataset_builder,train_dataset,val_dataset,test_dataset = load_datasets_basic(FLAGS)\n",
    "FLAGS = add_dataset_flags(dataset_builder,FLAGS)\n",
    "\n",
    "model = resnet20_multihead(batch_size=FLAGS.batch_size,\n",
    "                           l2_weight=None,\n",
    "                           certainty_variant=FLAGS.certainty_variant,\n",
    "                           activation_type=FLAGS.activation)\n",
    "\n"
   ]
  },
  {
   "cell_type": "code",
   "execution_count": 24,
   "metadata": {},
   "outputs": [],
   "source": [
    "\n",
    "resnet20_multihead_load(model,FLAGS)"
   ]
  },
  {
   "cell_type": "code",
   "execution_count": 25,
   "metadata": {},
   "outputs": [
    {
     "name": "stdout",
     "output_type": "stream",
     "text": [
      "INFO:tensorflow:Using MirroredStrategy with devices ('/job:localhost/replica:0/task:0/device:GPU:0',)\n"
     ]
    },
    {
     "name": "stderr",
     "output_type": "stream",
     "text": [
      "INFO:tensorflow:Using MirroredStrategy with devices ('/job:localhost/replica:0/task:0/device:GPU:0',)\n"
     ]
    }
   ],
   "source": [
    "dataset_builder,train_dataset,val_dataset,test_dataset = load_datasets_basic(FLAGS)\n",
    "FLAGS = add_dataset_flags(dataset_builder,FLAGS)"
   ]
  },
  {
   "cell_type": "code",
   "execution_count": 26,
   "metadata": {},
   "outputs": [
    {
     "name": "stdout",
     "output_type": "stream",
     "text": [
      "100/100 [==============================] - 1s 7ms/step - loss: 0.5475 - logits_loss: 0.4293 - certs_ece: 0.8641 - probs_sparse_categorical_accuracy: 0.8818 - probs_lr: 0.0010\n"
     ]
    },
    {
     "data": {
      "text/plain": [
       "[0.547511875629425,\n",
       " 0.42934179306030273,\n",
       " 0.8640589714050293,\n",
       " 0.8817999958992004,\n",
       " 0.001000000280328095]"
      ]
     },
     "execution_count": 26,
     "metadata": {},
     "output_type": "execute_result"
    }
   ],
   "source": [
    "model.evaluate(test_dataset)"
   ]
  },
  {
   "cell_type": "code",
   "execution_count": 5,
   "metadata": {
    "scrolled": true
   },
   "outputs": [],
   "source": [
    "cal_model_iso, _ = calibrate_model_isotonic(model,\n",
    "                                               val_dataset,\n",
    "                                               FLAGS=FLAGS,\n",
    "                                               output='certs',\n",
    "                                               bins=1000,\n",
    "                                              )"
   ]
  },
  {
   "cell_type": "code",
   "execution_count": 6,
   "metadata": {},
   "outputs": [
    {
     "data": {
      "image/png": "[encoded data removed]",
      "text/plain": [
       "<Figure size 360x360 with 1 Axes>"
      ]
     },
     "metadata": {
      "needs_background": "light"
     },
     "output_type": "display_data"
    },
    {
     "data": {
      "image/png": "[encoded data removed]",
      "text/plain": [
       "<Figure size 360x360 with 1 Axes>"
      ]
     },
     "metadata": {
      "needs_background": "light"
     },
     "output_type": "display_data"
    }
   ],
   "source": [
    "rel_diag(model,val_dataset,FLAGS,output='certs')\n",
    "rel_diag(cal_model_iso,val_dataset,FLAGS,output='certs_cal')\n"
   ]
  },
  {
   "cell_type": "code",
   "execution_count": 7,
   "metadata": {},
   "outputs": [],
   "source": [
    "cal_model_temp, _ = calibrate_model_temp(model,\n",
    "                                               val_dataset,\n",
    "                                               FLAGS=FLAGS,\n",
    "                                               output='logits_from_certs',\n",
    "                                               epochs=20,\n",
    "                                              )"
   ]
  },
  {
   "cell_type": "code",
   "execution_count": 8,
   "metadata": {},
   "outputs": [
    {
     "data": {
      "image/png": "[encoded data removed]",
      "text/plain": [
       "<Figure size 360x360 with 1 Axes>"
      ]
     },
     "metadata": {
      "needs_background": "light"
     },
     "output_type": "display_data"
    },
    {
     "data": {
      "image/png": "[encoded data removed]",
      "text/plain": [
       "<Figure size 360x360 with 1 Axes>"
      ]
     },
     "metadata": {
      "needs_background": "light"
     },
     "output_type": "display_data"
    }
   ],
   "source": [
    "rel_diag(model,val_dataset,FLAGS,output='certs')\n",
    "rel_diag(cal_model_temp,val_dataset,FLAGS,output='logits_from_certs_cal')\n"
   ]
  },
  {
   "cell_type": "code",
   "execution_count": 4,
   "metadata": {},
   "outputs": [],
   "source": [
    "cal_model_nonlin, _ = calibrate_model_nonlin(model,\n",
    "                                       val_dataset,\n",
    "                                       FLAGS=FLAGS,\n",
    "                                       output='certs',\n",
    "                                       epochs=10000,\n",
    "                                       bins=1000,\n",
    "                                       basis_type='list',\n",
    "                                       basis_list=np.linspace(-20,20,100)\n",
    "                                      )"
   ]
  },
  {
   "cell_type": "code",
   "execution_count": 7,
   "metadata": {},
   "outputs": [],
   "source": [
    "cal_model_nonlin, _ = calibrate_model_nonlin(model,\n",
    "                                       val_dataset,\n",
    "                                       FLAGS=FLAGS,\n",
    "                                       output='certs',\n",
    "                                       epochs=10000,\n",
    "                                       bins=1000,\n",
    "                                       basis_type='uniform',\n",
    "                                       basis_params=[-20,20,100]\n",
    "                                      )"
   ]
  },
  {
   "cell_type": "code",
   "execution_count": 8,
   "metadata": {},
   "outputs": [
    {
     "data": {
      "image/png": "[encoded data removed]",
      "text/plain": [
       "<Figure size 360x360 with 1 Axes>"
      ]
     },
     "metadata": {
      "needs_background": "light"
     },
     "output_type": "display_data"
    },
    {
     "data": {
      "image/png": "[encoded data removed]",
      "text/plain": [
       "<Figure size 360x360 with 1 Axes>"
      ]
     },
     "metadata": {
      "needs_background": "light"
     },
     "output_type": "display_data"
    }
   ],
   "source": [
    "rel_diag(model,val_dataset,FLAGS,output='certs')\n",
    "rel_diag(cal_model_nonlin,val_dataset,FLAGS,output='certs_cal')\n"
   ]
  },
  {
   "cell_type": "code",
   "execution_count": 13,
   "metadata": {},
   "outputs": [
    {
     "data": {
      "image/png": "[encoded data removed]",
      "text/plain": [
       "<Figure size 360x360 with 1 Axes>"
      ]
     },
     "metadata": {
      "needs_background": "light"
     },
     "output_type": "display_data"
    },
    {
     "data": {
      "image/png": "[encoded data removed]",
      "text/plain": [
       "<Figure size 360x360 with 1 Axes>"
      ]
     },
     "metadata": {
      "needs_background": "light"
     },
     "output_type": "display_data"
    },
    {
     "data": {
      "image/png": "[encoded data removed]",
      "text/plain": [
       "<Figure size 360x360 with 1 Axes>"
      ]
     },
     "metadata": {
      "needs_background": "light"
     },
     "output_type": "display_data"
    }
   ],
   "source": [
    "rel_diag(cal_model_iso,train_dataset,FLAGS,output='certs_cal')\n",
    "rel_diag(cal_model_temp,train_dataset,FLAGS,output='logits_from_certs_cal')\n",
    "rel_diag(cal_model_nonlin,train_dataset,FLAGS,output='certs_cal')"
   ]
  },
  {
   "cell_type": "markdown",
   "metadata": {},
   "source": [
    "<h2>single ECE</h2>"
   ]
  },
  {
   "cell_type": "code",
   "execution_count": 8,
   "metadata": {},
   "outputs": [],
   "source": [
    "FLAGS = AttrDict({'seed':1337,\n",
    "                  'output_dir':'dir1_relu',\n",
    "                  'optimizer': 'adam',\n",
    "                  'learning_rate':0.01,\n",
    "                  'weight_decay':None,\n",
    "                  'model_file':'dir1_relu/model.ckpt-60',\n",
    "                  'dataset':'cifar10',\n",
    "                  'certainty_variant':'partial',\n",
    "                  'activation':'relu',\n",
    "                  'batch_size':128,\n",
    "                  'eval_batch_size':100,\n",
    "                  'validation_percent':0.1,\n",
    "                  'eval_frequency':100,\n",
    "                  'num_bins':15,\n",
    "                  'epochs':60\n",
    "                 })"
   ]
  },
  {
   "cell_type": "code",
   "execution_count": 9,
   "metadata": {},
   "outputs": [
    {
     "name": "stdout",
     "output_type": "stream",
     "text": [
      "INFO:tensorflow:Using MirroredStrategy with devices ('/job:localhost/replica:0/task:0/device:GPU:0',)\n"
     ]
    },
    {
     "name": "stderr",
     "output_type": "stream",
     "text": [
      "INFO:tensorflow:Using MirroredStrategy with devices ('/job:localhost/replica:0/task:0/device:GPU:0',)\n"
     ]
    }
   ],
   "source": [
    "logging.info('Multihead CIFAR-10 ResNet-20 ECE')\n",
    "\n",
    "tf.random.set_seed(FLAGS.seed)\n",
    "np.random.seed(FLAGS.seed)\n",
    "\n",
    "dataset_builder,train_dataset,val_dataset,test_dataset = load_datasets_basic(FLAGS)\n",
    "FLAGS = add_dataset_flags(dataset_builder,FLAGS)\n",
    "\n",
    "model = resnet20_multihead(batch_size=FLAGS.batch_size,\n",
    "                           l2_weight=None,\n",
    "                           certainty_variant=FLAGS.certainty_variant,\n",
    "                           activation_type=FLAGS.activation)\n",
    "\n",
    "resnet20_multihead_load(model,FLAGS)\n",
    "\n"
   ]
  },
  {
   "cell_type": "code",
   "execution_count": 10,
   "metadata": {},
   "outputs": [],
   "source": [
    "cal_model_iso, _ = calibrate_model_isotonic(model,\n",
    "                                               val_dataset,\n",
    "                                               FLAGS=FLAGS,\n",
    "                                               output='certs', #or 'probs'\n",
    "                                              )"
   ]
  },
  {
   "cell_type": "code",
   "execution_count": 11,
   "metadata": {},
   "outputs": [
    {
     "data": {
      "application/vnd.jupyter.widget-view+json": {
       "model_id": "f8226e972c9141b3841953312af52a1d",
       "version_major": 2,
       "version_minor": 0
      },
      "text/plain": [
       "HBox(children=(HTML(value=''), FloatProgress(value=0.0, max=1.0), HTML(value='')))"
      ]
     },
     "metadata": {},
     "output_type": "display_data"
    },
    {
     "name": "stdout",
     "output_type": "stream",
     "text": [
      "\n"
     ]
    },
    {
     "data": {
      "text/plain": [
       "0.013388589024543762"
      ]
     },
     "execution_count": 11,
     "metadata": {},
     "output_type": "execute_result"
    }
   ],
   "source": [
    "ece(cal_model_iso,val_dataset,FLAGS,output='certs_cal')"
   ]
  },
  {
   "cell_type": "markdown",
   "metadata": {},
   "source": [
    "<h2>batch ECE for corrupted CIFAR10</h2>"
   ]
  },
  {
   "cell_type": "code",
   "execution_count": 2,
   "metadata": {},
   "outputs": [],
   "source": [
    "FLAGS = AttrDict({'seed':1337,\n",
    "                  'output_dir':'dir1_relu',\n",
    "                  'optimizer': 'adam',\n",
    "                  'learning_rate':0.01,\n",
    "                  'weight_decay':None,\n",
    "                  'model_file':'dir1_relu/model.ckpt-60',\n",
    "                  'dataset':'cifar10',\n",
    "                  'certainty_variant':'partial',\n",
    "                  'activation':'relu',\n",
    "                  'batch_size':128,\n",
    "                  'eval_batch_size':100,\n",
    "                  'validation_percent':0.1,\n",
    "                  'eval_frequency':100,\n",
    "                  'num_bins':15,\n",
    "                  'epochs':60\n",
    "                 })"
   ]
  },
  {
   "cell_type": "code",
   "execution_count": 3,
   "metadata": {},
   "outputs": [
    {
     "name": "stdout",
     "output_type": "stream",
     "text": [
      "INFO:tensorflow:Using MirroredStrategy with devices ('/job:localhost/replica:0/task:0/device:GPU:0',)\n"
     ]
    },
    {
     "name": "stderr",
     "output_type": "stream",
     "text": [
      "INFO:tensorflow:Using MirroredStrategy with devices ('/job:localhost/replica:0/task:0/device:GPU:0',)\n"
     ]
    }
   ],
   "source": [
    "logging.info('Multihead CIFAR-10 ResNet-20 batch ECE')\n",
    "\n",
    "tf.random.set_seed(FLAGS.seed)\n",
    "np.random.seed(FLAGS.seed)\n",
    "\n",
    "dataset_builder,train_dataset,val_dataset,test_dataset = load_datasets_basic(FLAGS)\n",
    "_, test_datasets_corrupt = load_datasets_corrupted(FLAGS)\n",
    "logging.info(f'Loaded corrupted test_datasets...{len(test_datasets_corrupt)-1}')\n",
    "FLAGS = add_dataset_flags(dataset_builder,FLAGS)\n",
    "\n",
    "model = resnet20_multihead(batch_size=FLAGS.batch_size,\n",
    "                           l2_weight=None,\n",
    "                           certainty_variant=FLAGS.certainty_variant,\n",
    "                           activation_type=FLAGS.activation)\n",
    "\n",
    "resnet20_multihead_load(model,FLAGS)\n"
   ]
  },
  {
   "cell_type": "code",
   "execution_count": null,
   "metadata": {},
   "outputs": [],
   "source": [
    "#test_datasets_corrupt subset for faster evaluation\n",
    "subset = {'clean','snow_1','fog_4','elastic_3'}\n",
    "tdc_subset = {k: test_datasets_corrupt[k] for k in test_datasets_corrupt.keys() if k in subset}"
   ]
  },
  {
   "cell_type": "code",
   "execution_count": 4,
   "metadata": {
    "scrolled": true
   },
   "outputs": [
    {
     "data": {
      "application/vnd.jupyter.widget-view+json": {
       "model_id": "3c876f75e9564036b93abdb65bd3c0a7",
       "version_major": 2,
       "version_minor": 0
      },
      "text/plain": [
       "HBox(children=(HTML(value=''), FloatProgress(value=0.0, max=76.0), HTML(value='')))"
      ]
     },
     "metadata": {},
     "output_type": "display_data"
    },
    {
     "name": "stdout",
     "output_type": "stream",
     "text": [
      "\n"
     ]
    }
   ],
   "source": [
    "metrics = {'ece':ECE(num_bins=FLAGS.num_bins, name='ece')}\n",
    "\n",
    "results, quartiles = comp_metrics(model=model,\n",
    "                                   datasets=test_datasets_corrupt,\n",
    "                                   metrics=metrics,\n",
    "                                   FLAGS=FLAGS,\n",
    "                                   output='certs',\n",
    "                                   return_quartiles=True)"
   ]
  },
  {
   "cell_type": "code",
   "execution_count": 5,
   "metadata": {
    "scrolled": true
   },
   "outputs": [
    {
     "data": {
      "text/plain": [
       "(0.17085923627018929, 0.21984294056892395, 0.26416806876659393)"
      ]
     },
     "execution_count": 5,
     "metadata": {},
     "output_type": "execute_result"
    }
   ],
   "source": [
    "quartiles"
   ]
  },
  {
   "cell_type": "raw",
   "metadata": {},
   "source": [
    "results"
   ]
  },
  {
   "cell_type": "markdown",
   "metadata": {},
   "source": [
    "<h2>single BrierScore</h2>"
   ]
  },
  {
   "cell_type": "code",
   "execution_count": 2,
   "metadata": {},
   "outputs": [],
   "source": [
    "FLAGS = AttrDict({'seed':1337,\n",
    "                  'output_dir':'dir1_relu',\n",
    "                  'optimizer': 'adam',\n",
    "                  'learning_rate':0.01,\n",
    "                  'weight_decay':None,\n",
    "                  'model_file':'dir1_relu/model.ckpt-60',\n",
    "                  'dataset':'cifar10',\n",
    "                  'certainty_variant':'partial',\n",
    "                  'activation':'relu',\n",
    "                  'batch_size':128,\n",
    "                  'eval_batch_size':100,\n",
    "                  'validation_percent':0.1,\n",
    "                  'eval_frequency':100,\n",
    "                  'num_bins':15,\n",
    "                  'epochs':60\n",
    "                 })"
   ]
  },
  {
   "cell_type": "code",
   "execution_count": 3,
   "metadata": {
    "scrolled": true
   },
   "outputs": [
    {
     "name": "stdout",
     "output_type": "stream",
     "text": [
      "INFO:tensorflow:Using MirroredStrategy with devices ('/job:localhost/replica:0/task:0/device:GPU:0',)\n"
     ]
    },
    {
     "name": "stderr",
     "output_type": "stream",
     "text": [
      "INFO:tensorflow:Using MirroredStrategy with devices ('/job:localhost/replica:0/task:0/device:GPU:0',)\n"
     ]
    }
   ],
   "source": [
    "logging.info('Multihead CIFAR-10 ResNet-20 Brier')\n",
    "\n",
    "tf.random.set_seed(FLAGS.seed)\n",
    "np.random.seed(FLAGS.seed)\n",
    "\n",
    "dataset_builder,train_dataset,val_dataset,test_dataset = load_datasets_basic(FLAGS)\n",
    "FLAGS = add_dataset_flags(dataset_builder,FLAGS)\n",
    "\n",
    "model = resnet20_multihead(batch_size=FLAGS.batch_size,\n",
    "                           l2_weight=None,\n",
    "                           certainty_variant=FLAGS.certainty_variant,\n",
    "                           activation_type=FLAGS.activation)\n",
    "\n",
    "resnet20_multihead_load(model,FLAGS)\n",
    "\n"
   ]
  },
  {
   "cell_type": "code",
   "execution_count": 4,
   "metadata": {},
   "outputs": [],
   "source": [
    "cal_model_iso, _ = calibrate_model_isotonic(model,\n",
    "                                               val_dataset,\n",
    "                                               FLAGS=FLAGS,\n",
    "                                               output='certs', #or 'probs'\n",
    "                                              )"
   ]
  },
  {
   "cell_type": "code",
   "execution_count": 5,
   "metadata": {},
   "outputs": [
    {
     "data": {
      "application/vnd.jupyter.widget-view+json": {
       "model_id": "39fb95623fb64a60807017a7144fa9c2",
       "version_major": 2,
       "version_minor": 0
      },
      "text/plain": [
       "HBox(children=(HTML(value=''), FloatProgress(value=0.0, max=1.0), HTML(value='')))"
      ]
     },
     "metadata": {},
     "output_type": "display_data"
    },
    {
     "name": "stdout",
     "output_type": "stream",
     "text": [
      "\n"
     ]
    },
    {
     "data": {
      "text/plain": [
       "0.35519182682037354"
      ]
     },
     "execution_count": 5,
     "metadata": {},
     "output_type": "execute_result"
    }
   ],
   "source": [
    "brier(model,val_dataset,FLAGS,output='certs')"
   ]
  },
  {
   "cell_type": "code",
   "execution_count": 6,
   "metadata": {},
   "outputs": [
    {
     "data": {
      "application/vnd.jupyter.widget-view+json": {
       "model_id": "9c3151619a8b43cf82927aaa5e2705ac",
       "version_major": 2,
       "version_minor": 0
      },
      "text/plain": [
       "HBox(children=(HTML(value=''), FloatProgress(value=0.0, max=1.0), HTML(value='')))"
      ]
     },
     "metadata": {},
     "output_type": "display_data"
    },
    {
     "name": "stdout",
     "output_type": "stream",
     "text": [
      "\n"
     ]
    },
    {
     "data": {
      "text/plain": [
       "0.3010418713092804"
      ]
     },
     "execution_count": 6,
     "metadata": {},
     "output_type": "execute_result"
    }
   ],
   "source": [
    "brier(cal_model_iso,val_dataset,FLAGS,output='certs_cal')"
   ]
  },
  {
   "cell_type": "markdown",
   "metadata": {},
   "source": [
    "# windows and bins"
   ]
  },
  {
   "cell_type": "code",
   "execution_count": 154,
   "metadata": {},
   "outputs": [],
   "source": [
    "FLAGS.no_classes = 10\n",
    "FLAGS.steps_per_epoch = 351\n",
    "dataset = test_dataset\n",
    "output = 'certs'\n",
    "bins=30"
   ]
  },
  {
   "cell_type": "code",
   "execution_count": 164,
   "metadata": {},
   "outputs": [],
   "source": [
    "# based on um.numpy.plot_diagram, um.numpy.reliability_diagram\n",
    "def _extract_conf_acc(probs,labels,window_len=None,bins=None):\n",
    "\n",
    "    probs = np.array(probs)\n",
    "    labels = np.array(labels)\n",
    "    labels_matrix = um.numpy.visualization.one_hot_encode(labels, probs.shape[1])\n",
    "\n",
    "    # plot_diagram(probs.flatten(), labels_matrix.flatten(), y_axis))\n",
    "\n",
    "    probs = probs.flatten()\n",
    "    labels = labels_matrix.flatten()\n",
    "\n",
    "    probs_labels = [(prob, labels[i]) for i, prob in enumerate(probs)]\n",
    "    probs_labels = np.array(sorted(probs_labels, key=lambda x: x[0]))\n",
    "    if window_len is None:\n",
    "        window_len = int(len(labels)/100.)\n",
    "#     if bins is None:\n",
    "#         bins = int(len(labels))\n",
    "    calibration_errors = []\n",
    "    confidences = []\n",
    "    accuracies = []\n",
    "    # More interesting than length of the window (which is specific to this\n",
    "    # window) is average distance between datapoints. This normalizes by dividing\n",
    "    # by the window length.\n",
    "    distances = []\n",
    "    for i in range(len(probs_labels)-window_len):\n",
    "        distances.append((\n",
    "            probs_labels[i+window_len, 0] - probs_labels[i, 0])/float(window_len))\n",
    "        # It's pretty sketchy to look for the 100 datapoints around this one.\n",
    "        # They could be anywhere in the probability simplex. This introduces bias.\n",
    "        mean_confidences = um.numpy.visualization.mean(probs_labels[i:i + window_len, 0])\n",
    "        confidences.append(mean_confidences)\n",
    "        class_accuracies = um.numpy.visualization.mean(probs_labels[i:i + window_len, 1])\n",
    "        accuracies.append(class_accuracies)\n",
    "        calibration_error = class_accuracies-mean_confidences\n",
    "        calibration_errors.append(calibration_error)\n",
    "    if bins>0:\n",
    "        delta = int((len(probs_labels)-window_len)/bins)\n",
    "        return confidences[::delta],accuracies[::delta]\n",
    "    else:\n",
    "        return confidences, accuracies"
   ]
  },
  {
   "cell_type": "code",
   "execution_count": 163,
   "metadata": {},
   "outputs": [
    {
     "name": "stdout",
     "output_type": "stream",
     "text": [
      "1000\n"
     ]
    }
   ],
   "source": [
    "#number of classes\n",
    "K = FLAGS.no_classes\n",
    "\n",
    "labels = np.empty(0)\n",
    "probs = np.empty((0,K))\n",
    "\n",
    "for i,(x,y) in enumerate(dataset):\n",
    "    if i>FLAGS.steps_per_epoch: break\n",
    "    out = model(x)[output].numpy()\n",
    "    labels = np.append(labels,y.numpy().astype('int32'))\n",
    "    probs = np.concatenate((probs,out))\n",
    "\n",
    "confidences, accuracies = _extract_conf_acc(probs=probs,labels=labels.astype('int32'),bins=bins)"
   ]
  },
  {
   "cell_type": "code",
   "execution_count": 78,
   "metadata": {},
   "outputs": [],
   "source": [
    "import matplotlib.pyplot as plt"
   ]
  },
  {
   "cell_type": "code",
   "execution_count": null,
   "metadata": {},
   "outputs": [],
   "source": []
  },
  {
   "cell_type": "code",
   "execution_count": 156,
   "metadata": {},
   "outputs": [
    {
     "data": {
      "text/plain": [
       "30"
      ]
     },
     "execution_count": 156,
     "metadata": {},
     "output_type": "execute_result"
    }
   ],
   "source": [
    "len(confidences)"
   ]
  },
  {
   "cell_type": "code",
   "execution_count": 157,
   "metadata": {},
   "outputs": [
    {
     "data": {
      "text/plain": [
       "30"
      ]
     },
     "execution_count": 157,
     "metadata": {},
     "output_type": "execute_result"
    }
   ],
   "source": [
    "len(accuracies)"
   ]
  },
  {
   "cell_type": "code",
   "execution_count": 159,
   "metadata": {},
   "outputs": [
    {
     "data": {
      "text/plain": [
       "0.995"
      ]
     },
     "execution_count": 159,
     "metadata": {},
     "output_type": "execute_result"
    }
   ],
   "source": [
    "accuracies[-1]"
   ]
  },
  {
   "cell_type": "code",
   "execution_count": 160,
   "metadata": {},
   "outputs": [
    {
     "data": {
      "text/plain": [
       "[<matplotlib.lines.Line2D at 0x7fcfc86dae80>]"
      ]
     },
     "execution_count": 160,
     "metadata": {},
     "output_type": "execute_result"
    },
    {
     "data": {
      "image/png": "[encoded data removed]",
      "text/plain": [
       "<Figure size 432x288 with 1 Axes>"
      ]
     },
     "metadata": {
      "needs_background": "light"
     },
     "output_type": "display_data"
    }
   ],
   "source": [
    "\n",
    "plt.plot(confidences,accuracies)"
   ]
  }
 ],
 "metadata": {
  "kernelspec": {
   "display_name": "Python 3",
   "language": "python",
   "name": "python3"
  },
  "language_info": {
   "codemirror_mode": {
    "name": "ipython",
    "version": 3
   },
   "file_extension": ".py",
   "mimetype": "text/x-python",
   "name": "python",
   "nbconvert_exporter": "python",
   "pygments_lexer": "ipython3",
   "version": "3.6.12"
  }
 },
 "nbformat": 4,
 "nbformat_minor": 4
}
